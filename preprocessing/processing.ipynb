{
 "cells": [
  {
   "cell_type": "code",
   "execution_count": 1,
   "id": "c037a97e",
   "metadata": {},
   "outputs": [],
   "source": [
    "import numpy as np\n",
    "import pandas as pd\n",
    "from preprocessing.preprocessor import preprocessor\n",
    "from car_processing.car_preprocessor import preprocessor_of_car"
   ]
  },
  {
   "cell_type": "code",
   "execution_count": null,
   "id": "71eeb878",
   "metadata": {},
   "outputs": [],
   "source": [
    "max_rounds = 5"
   ]
  },
  {
   "cell_type": "code",
   "execution_count": null,
   "id": "f4c107bf",
   "metadata": {},
   "outputs": [],
   "source": [
    "# 전체 전처리\n",
    "df = pd.read_pickle(r'./data/og_data.pkl')\n",
    "df = preprocessor(df, max_rounds)\n",
    "df.to_pickle(r'C:\\Users\\hwang\\Desktop\\OSSP\\data.pkl')"
   ]
  },
  {
   "cell_type": "code",
   "execution_count": null,
   "id": "5d4afe5f",
   "metadata": {},
   "outputs": [],
   "source": [
    "# 자동차 전처리\n",
    "df = pd.read_pickle(r'.\\data\\data.pkl')\n",
    "df = preprocessor_of_car(df, max_rounds)\n",
    "df.to_pickle(r'C:\\Users\\hwang\\Desktop\\OSSP\\car_data.pkl')"
   ]
  }
 ],
 "metadata": {
  "kernelspec": {
   "display_name": "base",
   "language": "python",
   "name": "python3"
  },
  "language_info": {
   "codemirror_mode": {
    "name": "ipython",
    "version": 3
   },
   "file_extension": ".py",
   "mimetype": "text/x-python",
   "name": "python",
   "nbconvert_exporter": "python",
   "pygments_lexer": "ipython3",
   "version": "3.12.3"
  }
 },
 "nbformat": 4,
 "nbformat_minor": 5
}
